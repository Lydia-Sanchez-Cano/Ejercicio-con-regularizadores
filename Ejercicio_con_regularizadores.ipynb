{
  "nbformat": 4,
  "nbformat_minor": 0,
  "metadata": {
    "kernelspec": {
      "display_name": "Python 3",
      "language": "python",
      "name": "python3"
    },
    "language_info": {
      "codemirror_mode": {
        "name": "ipython",
        "version": 3
      },
      "file_extension": ".py",
      "mimetype": "text/x-python",
      "name": "python",
      "nbconvert_exporter": "python",
      "pygments_lexer": "ipython3",
      "version": "3.8.5"
    },
    "colab": {
      "provenance": []
    },
    "accelerator": "TPU"
  },
  "cells": [
    {
      "cell_type": "markdown",
      "metadata": {
        "id": "Ejg7Msp7rbkk"
      },
      "source": [
        "# Ejercicio con regularizadores"
      ]
    },
    {
      "cell_type": "code",
      "source": [
        "%tensorflow_version 2.x\n",
        "import tensorflow as tf\n",
        "from tensorflow import keras\n",
        "print(tf.keras.__version__)\n",
        "print(\"GPU Available:\", tf.config.list_physical_devices('GPU'))\n",
        "print(tf.__version__)\n",
        "from keras.datasets import mnist\n",
        "from keras import models\n",
        "from keras import layers\n",
        "import numpy as np\n",
        "import matplotlib.pyplot as plt\n",
        "from keras import regularizers"
      ],
      "metadata": {
        "id": "BSivef1i532C",
        "outputId": "e3188556-097c-456a-b65b-5b99e9a74e3b",
        "colab": {
          "base_uri": "https://localhost:8080/"
        }
      },
      "execution_count": 135,
      "outputs": [
        {
          "output_type": "stream",
          "name": "stdout",
          "text": [
            "Colab only includes TensorFlow 2.x; %tensorflow_version has no effect.\n",
            "2.9.0\n",
            "GPU Available: []\n",
            "2.9.2\n"
          ]
        }
      ]
    },
    {
      "cell_type": "code",
      "source": [
        "(train_images, train_labels), (test_images, test_labels) = mnist.load_data()"
      ],
      "metadata": {
        "id": "3t3R6gU9-wUy"
      },
      "execution_count": 136,
      "outputs": []
    },
    {
      "cell_type": "code",
      "source": [
        "# Prepara con reshape y normaliza las imágenes tanto de entrenamiento como de test\n",
        "train_images = train_images.reshape((60000, 28*28))\n",
        "train_images = train_images.astype('float32') / 255\n",
        "\n",
        "test_images = test_images.reshape((10000, 28*28))\n",
        "test_images = test_images.astype('float32') / 255"
      ],
      "metadata": {
        "id": "H6n5NeSz0U1d"
      },
      "execution_count": 137,
      "outputs": []
    },
    {
      "cell_type": "code",
      "source": [
        "# Crear un subconjunto de imágenes de entrenamiento que llamaré\n",
        "# validation_images, para hacer las validaciones, con las 10000 últimas imágenes \n",
        "# del set de datos de entrenamiento (train_images) (obviamente, lo mismo con las\n",
        "# etiquetas correspondientes -> validation_labels). Deja preparadas las 50K \n",
        "# primeras imágenes y etiquetas para entrenamiento (train_images y train_labels)\n",
        "validation_images=train_images[50000:]\n",
        "train_images=train_images[0:49999]\n",
        "validation_labels=train_labels[50000:]\n",
        "train_labels=train_labels[0:49999]"
      ],
      "metadata": {
        "id": "NKoZGyap0XAj"
      },
      "execution_count": 138,
      "outputs": []
    },
    {
      "cell_type": "code",
      "source": [
        "def crea_modelo(regularizador):\n",
        "  # Define una función que recibe un número del 0 al 4 que creará:\n",
        "  # un modelo secuencial con una capa de entrada densa de 512 neuronas\n",
        "  # con activación relu y la capa de salida que le corresponda según el problema\n",
        "  # Ahora, en función del número del regularizador:\n",
        "  # Si es 0, no mete ningún regularizador\n",
        "  # Si es 1, mete un regularizador de tipo l1 y valor 0.001\n",
        "  # Si es 2, mete un regularizador de tipo l2 y valor 0.001\n",
        "  # Si es 3, mete un regularizador de tipo l1_l2 y valor 0.001 para ambos\n",
        "  # Si es 4, mete un Dropout del 50% después de la primera capa densa\n",
        "  # Si es distinto que estos valores, escribe el error y retorna\n",
        "  # Al final, esta función pinta el summary del modelo y retorna el modelo creado\n",
        "  model= models.Sequential()\n",
        "  if regularizador == 0:\n",
        "    model.add(layers.Dense(512, activation='relu',input_shape=(28*28,)))\n",
        "  elif regularizador == 1:\n",
        "    model.add(layers.Dense(512, kernel_regularizer=regularizers.l1(0.001),activation='relu',input_shape=(28*28,)))\n",
        "  elif regularizador == 2:\n",
        "    model.add(layers.Dense(512, kernel_regularizer=regularizers.l2(0.001),activation='relu',input_shape=(28*28,)))\n",
        "  elif regularizador == 3:\n",
        "    model.add(layers.Dense(512, kernel_regularizer=regularizers.l1_l2(l1=0.001,l2=0.001),activation='relu',input_shape=(28*28,)))\n",
        "  elif regularizador == 4:\n",
        "    model.add(layers.Dense(512,activation='relu',input_shape=(28*28,)))\n",
        "    model.add(layers.Dropout(0.5))\n",
        "  model.add(layers.Dense(10,activation='softmax'))\n",
        "  model.summary()\n",
        "  return model"
      ],
      "metadata": {
        "id": "6JnVLVfsAfkh"
      },
      "execution_count": 139,
      "outputs": []
    },
    {
      "cell_type": "code",
      "source": [
        "def compila_modelo(modelo): \n",
        "  # Define una función que recibe un modelo, lo compila con un optimizador\n",
        "  # 'rmsprop', con una función de pérdida 'sparse_categorical_crossentropy' y\n",
        "  # una métrica de precisión. La función retorna el modelo\n",
        "  modelo.compile(optimizer='rmsprop', \n",
        "                loss='sparse_categorical_crossentropy',\n",
        "                metrics=['accuracy'])\n",
        "  return modelo"
      ],
      "metadata": {
        "id": "qKyJ8KOT0aFt"
      },
      "execution_count": 140,
      "outputs": []
    },
    {
      "cell_type": "code",
      "source": [
        "def entrena_modelo(modelo):\n",
        "  # Define una función que entrena el modelo que se le pasa por parámetro,\n",
        "  # con las imágenes y etiquetas de entrenamiento, con 30 iteraciones y 128\n",
        "  # de tamaño de minilote y con el validation_data creado más arriba.\n",
        "  # Esta función devuelve un history\n",
        "  historia=modelo.fit(train_images, train_labels, epochs=30, batch_size=128,validation_data=(validation_images,validation_labels))\n",
        "  return historia "
      ],
      "metadata": {
        "id": "_yQ7SpOt0cBp"
      },
      "execution_count": 141,
      "outputs": []
    },
    {
      "cell_type": "code",
      "source": [
        "def pinta_perdida_entrenamiento_validacion(historia):\n",
        "  history_dict = historia.history\n",
        "  acc = historia.history['accuracy']\n",
        "  val_acc = historia.history['val_accuracy']\n",
        "  loss = historia.history['loss']\n",
        "  val_loss = historia.history['val_loss']\n",
        "  epochs = range(1, len(acc) + 1)\n",
        "  # \"bo\" es para \"punto azun\"\n",
        "  plt.plot(epochs, loss, 'bo', label='Pérdida de Entrenamiento')\n",
        "  # \"b\" es para \"linea continua azul\"\n",
        "  plt.plot(epochs, val_loss, 'b', label='Pérdida de Validación')\n",
        "  plt.title('Pérdida de Entrenamiento y Validación')\n",
        "  plt.xlabel('Epochs')\n",
        "  plt.ylabel('Loss')\n",
        "  plt.legend()\n",
        "  plt.show()"
      ],
      "metadata": {
        "id": "bJrRNc4WwPN2"
      },
      "execution_count": 142,
      "outputs": []
    },
    {
      "cell_type": "code",
      "source": [
        "def pinta_precision_entrenamiento_validacion(historia):\n",
        "  history_dict = historia.history\n",
        "  acc = historia.history['accuracy']\n",
        "  val_acc = historia.history['val_accuracy']\n",
        "  loss = historia.history['loss']\n",
        "  val_loss = historia.history['val_loss']\n",
        "  plt.clf()   # Limpia la figura\n",
        "  acc_values = history_dict['accuracy']\n",
        "  val_acc_values = history_dict['val_accuracy']\n",
        "  epochs = range(1, len(acc) + 1)\n",
        "  plt.plot(epochs, acc, 'bo', label='Precisión de Entrenamiento')\n",
        "  plt.plot(epochs, val_acc, 'b', label='Precisión de Validación')\n",
        "  plt.title('Precisión de Entrenamiento y Valización')\n",
        "  plt.xlabel('Epochs')\n",
        "  plt.ylabel('Loss')\n",
        "  plt.legend()\n",
        "  plt.show()"
      ],
      "metadata": {
        "id": "Mafxp6D3wYQx"
      },
      "execution_count": 143,
      "outputs": []
    },
    {
      "cell_type": "markdown",
      "source": [
        "## Una vez definidas todas las funciones anteriores, ejecuta las siguientes llamadas a dichas funciones y deduce que está pasando y, para este contexto, que es lo que mejor está funcionando"
      ],
      "metadata": {
        "id": "6nnQYysYA3_T"
      }
    },
    {
      "cell_type": "markdown",
      "source": [
        "### Caso 0, sin regularizadores"
      ],
      "metadata": {
        "id": "OrGwDgaFBax4"
      }
    },
    {
      "cell_type": "code",
      "source": [
        "network0 = crea_modelo(0)"
      ],
      "metadata": {
        "id": "uXvhlXg79Zi9",
        "outputId": "bbbbfb4d-6a93-4611-fc60-e7af94eb9f79",
        "colab": {
          "base_uri": "https://localhost:8080/"
        }
      },
      "execution_count": 144,
      "outputs": [
        {
          "output_type": "stream",
          "name": "stdout",
          "text": [
            "Model: \"sequential_11\"\n",
            "_________________________________________________________________\n",
            " Layer (type)                Output Shape              Param #   \n",
            "=================================================================\n",
            " dense_19 (Dense)            (None, 512)               401920    \n",
            "                                                                 \n",
            " dense_20 (Dense)            (None, 10)                5130      \n",
            "                                                                 \n",
            "=================================================================\n",
            "Total params: 407,050\n",
            "Trainable params: 407,050\n",
            "Non-trainable params: 0\n",
            "_________________________________________________________________\n"
          ]
        }
      ]
    },
    {
      "cell_type": "code",
      "source": [
        "network0 = compila_modelo(network0)"
      ],
      "metadata": {
        "id": "Ff0HC3NR9ez8"
      },
      "execution_count": 145,
      "outputs": []
    },
    {
      "cell_type": "code",
      "source": [
        "historia0 = entrena_modelo(network0)"
      ],
      "metadata": {
        "id": "x9zQDOlw9g6V",
        "colab": {
          "base_uri": "https://localhost:8080/"
        },
        "outputId": "a94e2bba-789a-4ff1-a942-80597c8d075c"
      },
      "execution_count": 146,
      "outputs": [
        {
          "output_type": "stream",
          "name": "stdout",
          "text": [
            "Epoch 1/30\n",
            "391/391 [==============================] - 6s 12ms/step - loss: 0.2794 - accuracy: 0.9194 - val_loss: 0.1496 - val_accuracy: 0.9551\n",
            "Epoch 2/30\n",
            "391/391 [==============================] - 5s 12ms/step - loss: 0.1169 - accuracy: 0.9654 - val_loss: 0.1103 - val_accuracy: 0.9665\n",
            "Epoch 3/30\n",
            "391/391 [==============================] - 5s 12ms/step - loss: 0.0767 - accuracy: 0.9768 - val_loss: 0.0818 - val_accuracy: 0.9748\n",
            "Epoch 4/30\n",
            "391/391 [==============================] - 5s 12ms/step - loss: 0.0554 - accuracy: 0.9834 - val_loss: 0.0757 - val_accuracy: 0.9780\n",
            "Epoch 5/30\n",
            "391/391 [==============================] - 5s 12ms/step - loss: 0.0402 - accuracy: 0.9884 - val_loss: 0.0752 - val_accuracy: 0.9785\n",
            "Epoch 6/30\n",
            "391/391 [==============================] - 5s 12ms/step - loss: 0.0310 - accuracy: 0.9907 - val_loss: 0.0715 - val_accuracy: 0.9807\n",
            "Epoch 7/30\n",
            "391/391 [==============================] - 5s 12ms/step - loss: 0.0231 - accuracy: 0.9938 - val_loss: 0.0781 - val_accuracy: 0.9783\n",
            "Epoch 8/30\n",
            "391/391 [==============================] - 4s 11ms/step - loss: 0.0175 - accuracy: 0.9950 - val_loss: 0.0797 - val_accuracy: 0.9794\n",
            "Epoch 9/30\n",
            "391/391 [==============================] - 5s 12ms/step - loss: 0.0133 - accuracy: 0.9961 - val_loss: 0.0760 - val_accuracy: 0.9806\n",
            "Epoch 10/30\n",
            "391/391 [==============================] - 4s 11ms/step - loss: 0.0103 - accuracy: 0.9972 - val_loss: 0.0855 - val_accuracy: 0.9787\n",
            "Epoch 11/30\n",
            "391/391 [==============================] - 4s 11ms/step - loss: 0.0081 - accuracy: 0.9978 - val_loss: 0.0856 - val_accuracy: 0.9802\n",
            "Epoch 12/30\n",
            "391/391 [==============================] - 5s 12ms/step - loss: 0.0061 - accuracy: 0.9982 - val_loss: 0.0901 - val_accuracy: 0.9807\n",
            "Epoch 13/30\n",
            "391/391 [==============================] - 5s 12ms/step - loss: 0.0049 - accuracy: 0.9987 - val_loss: 0.0968 - val_accuracy: 0.9791\n",
            "Epoch 14/30\n",
            "391/391 [==============================] - 4s 11ms/step - loss: 0.0037 - accuracy: 0.9989 - val_loss: 0.0950 - val_accuracy: 0.9805\n",
            "Epoch 15/30\n",
            "391/391 [==============================] - 4s 11ms/step - loss: 0.0029 - accuracy: 0.9993 - val_loss: 0.0953 - val_accuracy: 0.9802\n",
            "Epoch 16/30\n",
            "391/391 [==============================] - 5s 12ms/step - loss: 0.0023 - accuracy: 0.9994 - val_loss: 0.0984 - val_accuracy: 0.9820\n",
            "Epoch 17/30\n",
            "391/391 [==============================] - 5s 12ms/step - loss: 0.0018 - accuracy: 0.9995 - val_loss: 0.0945 - val_accuracy: 0.9822\n",
            "Epoch 18/30\n",
            "391/391 [==============================] - 5s 12ms/step - loss: 0.0015 - accuracy: 0.9996 - val_loss: 0.1004 - val_accuracy: 0.9822\n",
            "Epoch 19/30\n",
            "391/391 [==============================] - 5s 12ms/step - loss: 0.0010 - accuracy: 0.9997 - val_loss: 0.1023 - val_accuracy: 0.9828\n",
            "Epoch 20/30\n",
            "391/391 [==============================] - 5s 12ms/step - loss: 8.6083e-04 - accuracy: 0.9997 - val_loss: 0.1221 - val_accuracy: 0.9791\n",
            "Epoch 21/30\n",
            "391/391 [==============================] - 5s 12ms/step - loss: 9.1428e-04 - accuracy: 0.9998 - val_loss: 0.1193 - val_accuracy: 0.9807\n",
            "Epoch 22/30\n",
            "391/391 [==============================] - 5s 12ms/step - loss: 5.2242e-04 - accuracy: 0.9999 - val_loss: 0.1148 - val_accuracy: 0.9819\n",
            "Epoch 23/30\n",
            "391/391 [==============================] - 5s 12ms/step - loss: 4.8395e-04 - accuracy: 0.9998 - val_loss: 0.1115 - val_accuracy: 0.9831\n",
            "Epoch 24/30\n",
            "391/391 [==============================] - 5s 12ms/step - loss: 4.4989e-04 - accuracy: 0.9998 - val_loss: 0.1206 - val_accuracy: 0.9822\n",
            "Epoch 25/30\n",
            "391/391 [==============================] - 5s 12ms/step - loss: 4.1689e-04 - accuracy: 0.9999 - val_loss: 0.1234 - val_accuracy: 0.9809\n",
            "Epoch 26/30\n",
            "391/391 [==============================] - 5s 12ms/step - loss: 2.2398e-04 - accuracy: 1.0000 - val_loss: 0.1294 - val_accuracy: 0.9819\n",
            "Epoch 27/30\n",
            "391/391 [==============================] - 5s 12ms/step - loss: 1.6096e-04 - accuracy: 1.0000 - val_loss: 0.1420 - val_accuracy: 0.9806\n",
            "Epoch 28/30\n",
            "391/391 [==============================] - 5s 12ms/step - loss: 2.3192e-04 - accuracy: 1.0000 - val_loss: 0.1256 - val_accuracy: 0.9836\n",
            "Epoch 29/30\n",
            "391/391 [==============================] - 5s 12ms/step - loss: 8.0521e-05 - accuracy: 1.0000 - val_loss: 0.1324 - val_accuracy: 0.9826\n",
            "Epoch 30/30\n",
            "391/391 [==============================] - 5s 12ms/step - loss: 8.2372e-05 - accuracy: 1.0000 - val_loss: 0.1446 - val_accuracy: 0.9810\n"
          ]
        }
      ]
    },
    {
      "cell_type": "code",
      "source": [
        "pinta_perdida_entrenamiento_validacion(historia0)"
      ],
      "metadata": {
        "id": "OvhDZvS8-0mG",
        "colab": {
          "base_uri": "https://localhost:8080/",
          "height": 295
        },
        "outputId": "60ad49e2-6dc7-45ec-de3c-c3f1bc4d8cfc"
      },
      "execution_count": 147,
      "outputs": [
        {
          "output_type": "display_data",
          "data": {
            "text/plain": [
              "<Figure size 432x288 with 1 Axes>"
            ],
            "image/png": "[encoded data removed]"
          },
          "metadata": {
            "needs_background": "light"
          }
        }
      ]
    },
    {
      "cell_type": "code",
      "source": [
        "pinta_precision_entrenamiento_validacion(historia0)"
      ],
      "metadata": {
        "id": "UuiL2CCH_fGN",
        "colab": {
          "base_uri": "https://localhost:8080/",
          "height": 295
        },
        "outputId": "ec210359-f887-4653-c086-b2b0d1950dfb"
      },
      "execution_count": 148,
      "outputs": [
        {
          "output_type": "display_data",
          "data": {
            "text/plain": [
              "<Figure size 432x288 with 1 Axes>"
            ],
            "image/png": "[encoded data removed]"
          },
          "metadata": {
            "needs_background": "light"
          }
        }
      ]
    },
    {
      "cell_type": "markdown",
      "source": [
        "### Caso 1: Con regularizador l1"
      ],
      "metadata": {
        "id": "pw6iBGO5Bg8J"
      }
    },
    {
      "cell_type": "code",
      "source": [
        "network1 = crea_modelo(1)"
      ],
      "metadata": {
        "id": "D6JPtw5zCz-1",
        "colab": {
          "base_uri": "https://localhost:8080/"
        },
        "outputId": "591afc24-e2dc-427d-f7a0-26e78720dccd"
      },
      "execution_count": 149,
      "outputs": [
        {
          "output_type": "stream",
          "name": "stdout",
          "text": [
            "Model: \"sequential_12\"\n",
            "_________________________________________________________________\n",
            " Layer (type)                Output Shape              Param #   \n",
            "=================================================================\n",
            " dense_21 (Dense)            (None, 512)               401920    \n",
            "                                                                 \n",
            " dense_22 (Dense)            (None, 10)                5130      \n",
            "                                                                 \n",
            "=================================================================\n",
            "Total params: 407,050\n",
            "Trainable params: 407,050\n",
            "Non-trainable params: 0\n",
            "_________________________________________________________________\n"
          ]
        }
      ]
    },
    {
      "cell_type": "code",
      "source": [
        "network1 = compila_modelo(network1)"
      ],
      "metadata": {
        "id": "zL3Gp7wvFRq3"
      },
      "execution_count": 150,
      "outputs": []
    },
    {
      "cell_type": "code",
      "source": [
        "historia1 = entrena_modelo(network1)"
      ],
      "metadata": {
        "id": "G2FG1Z4xFW72",
        "colab": {
          "base_uri": "https://localhost:8080/"
        },
        "outputId": "cd81b5c1-579d-427c-ac25-9adaa7850507"
      },
      "execution_count": 151,
      "outputs": [
        {
          "output_type": "stream",
          "name": "stdout",
          "text": [
            "Epoch 1/30\n",
            "391/391 [==============================] - 6s 15ms/step - loss: 2.1449 - accuracy: 0.8451 - val_loss: 1.0543 - val_accuracy: 0.8656\n",
            "Epoch 2/30\n",
            "391/391 [==============================] - 5s 14ms/step - loss: 0.9637 - accuracy: 0.8796 - val_loss: 0.8346 - val_accuracy: 0.9121\n",
            "Epoch 3/30\n",
            "391/391 [==============================] - 5s 14ms/step - loss: 0.8417 - accuracy: 0.9007 - val_loss: 0.7752 - val_accuracy: 0.9142\n",
            "Epoch 4/30\n",
            "391/391 [==============================] - 5s 14ms/step - loss: 0.7653 - accuracy: 0.9141 - val_loss: 0.7247 - val_accuracy: 0.9267\n",
            "Epoch 5/30\n",
            "391/391 [==============================] - 5s 14ms/step - loss: 0.7125 - accuracy: 0.9235 - val_loss: 0.6671 - val_accuracy: 0.9364\n",
            "Epoch 6/30\n",
            "391/391 [==============================] - 5s 13ms/step - loss: 0.6722 - accuracy: 0.9316 - val_loss: 0.6792 - val_accuracy: 0.9299\n",
            "Epoch 7/30\n",
            "391/391 [==============================] - 5s 13ms/step - loss: 0.6442 - accuracy: 0.9362 - val_loss: 0.6518 - val_accuracy: 0.9376\n",
            "Epoch 8/30\n",
            "391/391 [==============================] - 5s 14ms/step - loss: 0.6233 - accuracy: 0.9395 - val_loss: 0.6669 - val_accuracy: 0.9246\n",
            "Epoch 9/30\n",
            "391/391 [==============================] - 5s 13ms/step - loss: 0.6054 - accuracy: 0.9417 - val_loss: 0.6028 - val_accuracy: 0.9412\n",
            "Epoch 10/30\n",
            "391/391 [==============================] - 5s 13ms/step - loss: 0.5909 - accuracy: 0.9438 - val_loss: 0.5843 - val_accuracy: 0.9468\n",
            "Epoch 11/30\n",
            "391/391 [==============================] - 5s 14ms/step - loss: 0.5771 - accuracy: 0.9466 - val_loss: 0.5409 - val_accuracy: 0.9587\n",
            "Epoch 12/30\n",
            "391/391 [==============================] - 5s 14ms/step - loss: 0.5653 - accuracy: 0.9489 - val_loss: 0.5383 - val_accuracy: 0.9588\n",
            "Epoch 13/30\n",
            "391/391 [==============================] - 5s 14ms/step - loss: 0.5573 - accuracy: 0.9501 - val_loss: 0.5317 - val_accuracy: 0.9574\n",
            "Epoch 14/30\n",
            "391/391 [==============================] - 5s 14ms/step - loss: 0.5492 - accuracy: 0.9512 - val_loss: 0.5340 - val_accuracy: 0.9596\n",
            "Epoch 15/30\n",
            "391/391 [==============================] - 5s 14ms/step - loss: 0.5426 - accuracy: 0.9521 - val_loss: 0.5117 - val_accuracy: 0.9595\n",
            "Epoch 16/30\n",
            "391/391 [==============================] - 5s 14ms/step - loss: 0.5366 - accuracy: 0.9522 - val_loss: 0.5260 - val_accuracy: 0.9558\n",
            "Epoch 17/30\n",
            "391/391 [==============================] - 5s 14ms/step - loss: 0.5295 - accuracy: 0.9540 - val_loss: 0.5655 - val_accuracy: 0.9456\n",
            "Epoch 18/30\n",
            "391/391 [==============================] - 5s 14ms/step - loss: 0.5246 - accuracy: 0.9545 - val_loss: 0.5516 - val_accuracy: 0.9461\n",
            "Epoch 19/30\n",
            "391/391 [==============================] - 5s 14ms/step - loss: 0.5190 - accuracy: 0.9548 - val_loss: 0.4906 - val_accuracy: 0.9655\n",
            "Epoch 20/30\n",
            "391/391 [==============================] - 5s 14ms/step - loss: 0.5146 - accuracy: 0.9558 - val_loss: 0.4940 - val_accuracy: 0.9640\n",
            "Epoch 21/30\n",
            "391/391 [==============================] - 5s 14ms/step - loss: 0.5084 - accuracy: 0.9573 - val_loss: 0.4985 - val_accuracy: 0.9617\n",
            "Epoch 22/30\n",
            "391/391 [==============================] - 5s 14ms/step - loss: 0.5051 - accuracy: 0.9574 - val_loss: 0.5012 - val_accuracy: 0.9583\n",
            "Epoch 23/30\n",
            "391/391 [==============================] - 5s 14ms/step - loss: 0.5012 - accuracy: 0.9583 - val_loss: 0.4979 - val_accuracy: 0.9592\n",
            "Epoch 24/30\n",
            "391/391 [==============================] - 5s 14ms/step - loss: 0.4980 - accuracy: 0.9582 - val_loss: 0.4747 - val_accuracy: 0.9669\n",
            "Epoch 25/30\n",
            "391/391 [==============================] - 5s 14ms/step - loss: 0.4954 - accuracy: 0.9591 - val_loss: 0.4872 - val_accuracy: 0.9619\n",
            "Epoch 26/30\n",
            "391/391 [==============================] - 5s 14ms/step - loss: 0.4933 - accuracy: 0.9596 - val_loss: 0.4774 - val_accuracy: 0.9625\n",
            "Epoch 27/30\n",
            "391/391 [==============================] - 5s 14ms/step - loss: 0.4906 - accuracy: 0.9598 - val_loss: 0.4783 - val_accuracy: 0.9651\n",
            "Epoch 28/30\n",
            "391/391 [==============================] - 5s 14ms/step - loss: 0.4881 - accuracy: 0.9589 - val_loss: 0.4694 - val_accuracy: 0.9658\n",
            "Epoch 29/30\n",
            "391/391 [==============================] - 5s 13ms/step - loss: 0.4855 - accuracy: 0.9592 - val_loss: 0.4668 - val_accuracy: 0.9641\n",
            "Epoch 30/30\n",
            "391/391 [==============================] - 5s 14ms/step - loss: 0.4844 - accuracy: 0.9599 - val_loss: 0.4675 - val_accuracy: 0.9675\n"
          ]
        }
      ]
    },
    {
      "cell_type": "code",
      "source": [
        "pinta_perdida_entrenamiento_validacion(historia1)"
      ],
      "metadata": {
        "id": "Vyv3yFtiFitw",
        "colab": {
          "base_uri": "https://localhost:8080/",
          "height": 295
        },
        "outputId": "f978dd86-3121-4c26-c331-9559c415a4fd"
      },
      "execution_count": 152,
      "outputs": [
        {
          "output_type": "display_data",
          "data": {
            "text/plain": [
              "<Figure size 432x288 with 1 Axes>"
            ],
            "image/png": "[encoded data removed]"
          },
          "metadata": {
            "needs_background": "light"
          }
        }
      ]
    },
    {
      "cell_type": "code",
      "source": [
        "pinta_precision_entrenamiento_validacion(historia1)"
      ],
      "metadata": {
        "id": "pVUerJsqFo7K",
        "colab": {
          "base_uri": "https://localhost:8080/",
          "height": 295
        },
        "outputId": "8f30f42d-27fe-46fc-e8bf-efdb9a28790e"
      },
      "execution_count": 153,
      "outputs": [
        {
          "output_type": "display_data",
          "data": {
            "text/plain": [
              "<Figure size 432x288 with 1 Axes>"
            ],
            "image/png": "[encoded data removed]"
          },
          "metadata": {
            "needs_background": "light"
          }
        }
      ]
    },
    {
      "cell_type": "markdown",
      "source": [
        "### Caso 2: Con regularizador l2"
      ],
      "metadata": {
        "id": "hklwKNlMBzya"
      }
    },
    {
      "cell_type": "code",
      "source": [
        "network2 = crea_modelo(2)"
      ],
      "metadata": {
        "id": "tjIs0FziG5Ja",
        "colab": {
          "base_uri": "https://localhost:8080/"
        },
        "outputId": "f78cf4ab-efc1-4931-9b0b-202943ede5bf"
      },
      "execution_count": 154,
      "outputs": [
        {
          "output_type": "stream",
          "name": "stdout",
          "text": [
            "Model: \"sequential_13\"\n",
            "_________________________________________________________________\n",
            " Layer (type)                Output Shape              Param #   \n",
            "=================================================================\n",
            " dense_23 (Dense)            (None, 512)               401920    \n",
            "                                                                 \n",
            " dense_24 (Dense)            (None, 10)                5130      \n",
            "                                                                 \n",
            "=================================================================\n",
            "Total params: 407,050\n",
            "Trainable params: 407,050\n",
            "Non-trainable params: 0\n",
            "_________________________________________________________________\n"
          ]
        }
      ]
    },
    {
      "cell_type": "code",
      "source": [
        "network2 = compila_modelo(network2)"
      ],
      "metadata": {
        "id": "UCdA0K_qyTUq"
      },
      "execution_count": 155,
      "outputs": []
    },
    {
      "cell_type": "code",
      "source": [
        "historia2 = entrena_modelo(network2)"
      ],
      "metadata": {
        "id": "WSuomx5oybpu",
        "colab": {
          "base_uri": "https://localhost:8080/"
        },
        "outputId": "f0e8594b-7b9d-4e2e-814b-b7e0910afb3c"
      },
      "execution_count": 156,
      "outputs": [
        {
          "output_type": "stream",
          "name": "stdout",
          "text": [
            "Epoch 1/30\n",
            "391/391 [==============================] - 6s 13ms/step - loss: 0.5308 - accuracy: 0.9122 - val_loss: 0.3075 - val_accuracy: 0.9503\n",
            "Epoch 2/30\n",
            "391/391 [==============================] - 5s 13ms/step - loss: 0.2658 - accuracy: 0.9541 - val_loss: 0.2186 - val_accuracy: 0.9676\n",
            "Epoch 3/30\n",
            "391/391 [==============================] - 5s 13ms/step - loss: 0.2104 - accuracy: 0.9630 - val_loss: 0.2005 - val_accuracy: 0.9638\n",
            "Epoch 4/30\n",
            "391/391 [==============================] - 5s 14ms/step - loss: 0.1872 - accuracy: 0.9674 - val_loss: 0.1898 - val_accuracy: 0.9653\n",
            "Epoch 5/30\n",
            "391/391 [==============================] - 5s 13ms/step - loss: 0.1737 - accuracy: 0.9694 - val_loss: 0.1657 - val_accuracy: 0.9711\n",
            "Epoch 6/30\n",
            "391/391 [==============================] - 5s 13ms/step - loss: 0.1643 - accuracy: 0.9717 - val_loss: 0.1799 - val_accuracy: 0.9658\n",
            "Epoch 7/30\n",
            "391/391 [==============================] - 5s 13ms/step - loss: 0.1560 - accuracy: 0.9737 - val_loss: 0.2174 - val_accuracy: 0.9535\n",
            "Epoch 8/30\n",
            "391/391 [==============================] - 5s 13ms/step - loss: 0.1523 - accuracy: 0.9731 - val_loss: 0.1631 - val_accuracy: 0.9711\n",
            "Epoch 9/30\n",
            "391/391 [==============================] - 5s 13ms/step - loss: 0.1467 - accuracy: 0.9746 - val_loss: 0.1812 - val_accuracy: 0.9627\n",
            "Epoch 10/30\n",
            "391/391 [==============================] - 5s 13ms/step - loss: 0.1436 - accuracy: 0.9757 - val_loss: 0.1547 - val_accuracy: 0.9734\n",
            "Epoch 11/30\n",
            "391/391 [==============================] - 5s 13ms/step - loss: 0.1397 - accuracy: 0.9767 - val_loss: 0.1514 - val_accuracy: 0.9731\n",
            "Epoch 12/30\n",
            "391/391 [==============================] - 5s 13ms/step - loss: 0.1375 - accuracy: 0.9759 - val_loss: 0.1497 - val_accuracy: 0.9734\n",
            "Epoch 13/30\n",
            "391/391 [==============================] - 5s 13ms/step - loss: 0.1334 - accuracy: 0.9776 - val_loss: 0.1683 - val_accuracy: 0.9698\n",
            "Epoch 14/30\n",
            "391/391 [==============================] - 5s 13ms/step - loss: 0.1313 - accuracy: 0.9787 - val_loss: 0.1768 - val_accuracy: 0.9634\n",
            "Epoch 15/30\n",
            "391/391 [==============================] - 5s 13ms/step - loss: 0.1297 - accuracy: 0.9777 - val_loss: 0.1527 - val_accuracy: 0.9712\n",
            "Epoch 16/30\n",
            "391/391 [==============================] - 5s 13ms/step - loss: 0.1258 - accuracy: 0.9788 - val_loss: 0.1452 - val_accuracy: 0.9729\n",
            "Epoch 17/30\n",
            "391/391 [==============================] - 5s 13ms/step - loss: 0.1247 - accuracy: 0.9791 - val_loss: 0.1427 - val_accuracy: 0.9737\n",
            "Epoch 18/30\n",
            "391/391 [==============================] - 5s 13ms/step - loss: 0.1227 - accuracy: 0.9795 - val_loss: 0.1607 - val_accuracy: 0.9690\n",
            "Epoch 19/30\n",
            "391/391 [==============================] - 5s 13ms/step - loss: 0.1211 - accuracy: 0.9802 - val_loss: 0.1396 - val_accuracy: 0.9745\n",
            "Epoch 20/30\n",
            "391/391 [==============================] - 5s 13ms/step - loss: 0.1196 - accuracy: 0.9802 - val_loss: 0.1328 - val_accuracy: 0.9772\n",
            "Epoch 21/30\n",
            "391/391 [==============================] - 5s 13ms/step - loss: 0.1174 - accuracy: 0.9803 - val_loss: 0.1421 - val_accuracy: 0.9749\n",
            "Epoch 22/30\n",
            "391/391 [==============================] - 5s 13ms/step - loss: 0.1182 - accuracy: 0.9796 - val_loss: 0.1475 - val_accuracy: 0.9744\n",
            "Epoch 23/30\n",
            "391/391 [==============================] - 5s 13ms/step - loss: 0.1153 - accuracy: 0.9808 - val_loss: 0.1415 - val_accuracy: 0.9768\n",
            "Epoch 24/30\n",
            "391/391 [==============================] - 5s 13ms/step - loss: 0.1142 - accuracy: 0.9814 - val_loss: 0.1537 - val_accuracy: 0.9693\n",
            "Epoch 25/30\n",
            "391/391 [==============================] - 5s 13ms/step - loss: 0.1138 - accuracy: 0.9816 - val_loss: 0.1323 - val_accuracy: 0.9762\n",
            "Epoch 26/30\n",
            "391/391 [==============================] - 5s 13ms/step - loss: 0.1117 - accuracy: 0.9816 - val_loss: 0.1362 - val_accuracy: 0.9768\n",
            "Epoch 27/30\n",
            "391/391 [==============================] - 5s 13ms/step - loss: 0.1110 - accuracy: 0.9813 - val_loss: 0.1280 - val_accuracy: 0.9769\n",
            "Epoch 28/30\n",
            "391/391 [==============================] - 5s 13ms/step - loss: 0.1092 - accuracy: 0.9814 - val_loss: 0.1350 - val_accuracy: 0.9748\n",
            "Epoch 29/30\n",
            "391/391 [==============================] - 5s 13ms/step - loss: 0.1093 - accuracy: 0.9820 - val_loss: 0.1301 - val_accuracy: 0.9767\n",
            "Epoch 30/30\n",
            "391/391 [==============================] - 5s 13ms/step - loss: 0.1076 - accuracy: 0.9824 - val_loss: 0.1301 - val_accuracy: 0.9773\n"
          ]
        }
      ]
    },
    {
      "cell_type": "code",
      "source": [
        "pinta_perdida_entrenamiento_validacion(historia2)"
      ],
      "metadata": {
        "id": "aXXzm8tpyj6X",
        "colab": {
          "base_uri": "https://localhost:8080/",
          "height": 295
        },
        "outputId": "07cdbaf2-6c01-40f7-981e-3920ccb193b7"
      },
      "execution_count": 157,
      "outputs": [
        {
          "output_type": "display_data",
          "data": {
            "text/plain": [
              "<Figure size 432x288 with 1 Axes>"
            ],
            "image/png": "[encoded data removed]"
          },
          "metadata": {
            "needs_background": "light"
          }
        }
      ]
    },
    {
      "cell_type": "code",
      "source": [
        "pinta_precision_entrenamiento_validacion(historia2)"
      ],
      "metadata": {
        "id": "CLTsg5LTypH9",
        "colab": {
          "base_uri": "https://localhost:8080/",
          "height": 295
        },
        "outputId": "53f1957a-c5f4-44a6-c533-4d7691bf2964"
      },
      "execution_count": 158,
      "outputs": [
        {
          "output_type": "display_data",
          "data": {
            "text/plain": [
              "<Figure size 432x288 with 1 Axes>"
            ],
            "image/png": "[encoded data removed]"
          },
          "metadata": {
            "needs_background": "light"
          }
        }
      ]
    },
    {
      "cell_type": "markdown",
      "source": [
        "### Caso 3: Con regularizador l1_l2"
      ],
      "metadata": {
        "id": "692oWz8oB82n"
      }
    },
    {
      "cell_type": "code",
      "source": [
        "network3 = crea_modelo(3)"
      ],
      "metadata": {
        "id": "5fdxkjoKzFcu",
        "colab": {
          "base_uri": "https://localhost:8080/"
        },
        "outputId": "a99bf6a6-34a4-4cf4-9a86-d8a5a8cbf124"
      },
      "execution_count": 159,
      "outputs": [
        {
          "output_type": "stream",
          "name": "stdout",
          "text": [
            "Model: \"sequential_14\"\n",
            "_________________________________________________________________\n",
            " Layer (type)                Output Shape              Param #   \n",
            "=================================================================\n",
            " dense_25 (Dense)            (None, 512)               401920    \n",
            "                                                                 \n",
            " dense_26 (Dense)            (None, 10)                5130      \n",
            "                                                                 \n",
            "=================================================================\n",
            "Total params: 407,050\n",
            "Trainable params: 407,050\n",
            "Non-trainable params: 0\n",
            "_________________________________________________________________\n"
          ]
        }
      ]
    },
    {
      "cell_type": "code",
      "source": [
        "network3 = compila_modelo(network3)"
      ],
      "metadata": {
        "id": "VJzs9A2yzPhx"
      },
      "execution_count": 160,
      "outputs": []
    },
    {
      "cell_type": "code",
      "source": [
        "historia3 = entrena_modelo(network3)"
      ],
      "metadata": {
        "id": "1JCUbcCQzY6E",
        "colab": {
          "base_uri": "https://localhost:8080/"
        },
        "outputId": "55677d6c-fea6-4cb7-869a-887c72e6e146"
      },
      "execution_count": 161,
      "outputs": [
        {
          "output_type": "stream",
          "name": "stdout",
          "text": [
            "Epoch 1/30\n",
            "391/391 [==============================] - 7s 16ms/step - loss: 2.1759 - accuracy: 0.8425 - val_loss: 1.0758 - val_accuracy: 0.8612\n",
            "Epoch 2/30\n",
            "391/391 [==============================] - 6s 15ms/step - loss: 0.9758 - accuracy: 0.8794 - val_loss: 0.8744 - val_accuracy: 0.9078\n",
            "Epoch 3/30\n",
            "391/391 [==============================] - 6s 15ms/step - loss: 0.8524 - accuracy: 0.9000 - val_loss: 0.7953 - val_accuracy: 0.9160\n",
            "Epoch 4/30\n",
            "391/391 [==============================] - 6s 15ms/step - loss: 0.7768 - accuracy: 0.9139 - val_loss: 0.8054 - val_accuracy: 0.9039\n",
            "Epoch 5/30\n",
            "391/391 [==============================] - 6s 15ms/step - loss: 0.7293 - accuracy: 0.9213 - val_loss: 0.6891 - val_accuracy: 0.9366\n",
            "Epoch 6/30\n",
            "391/391 [==============================] - 6s 14ms/step - loss: 0.6928 - accuracy: 0.9278 - val_loss: 0.6903 - val_accuracy: 0.9247\n",
            "Epoch 7/30\n",
            "391/391 [==============================] - 6s 15ms/step - loss: 0.6653 - accuracy: 0.9325 - val_loss: 0.6251 - val_accuracy: 0.9433\n",
            "Epoch 8/30\n",
            "391/391 [==============================] - 6s 15ms/step - loss: 0.6441 - accuracy: 0.9353 - val_loss: 0.6198 - val_accuracy: 0.9424\n",
            "Epoch 9/30\n",
            "391/391 [==============================] - 6s 15ms/step - loss: 0.6252 - accuracy: 0.9393 - val_loss: 0.6069 - val_accuracy: 0.9466\n",
            "Epoch 10/30\n",
            "391/391 [==============================] - 6s 15ms/step - loss: 0.6088 - accuracy: 0.9421 - val_loss: 0.5663 - val_accuracy: 0.9540\n",
            "Epoch 11/30\n",
            "391/391 [==============================] - 6s 15ms/step - loss: 0.5981 - accuracy: 0.9422 - val_loss: 0.6609 - val_accuracy: 0.9229\n",
            "Epoch 12/30\n",
            "391/391 [==============================] - 6s 15ms/step - loss: 0.5853 - accuracy: 0.9459 - val_loss: 0.5647 - val_accuracy: 0.9526\n",
            "Epoch 13/30\n",
            "391/391 [==============================] - 6s 15ms/step - loss: 0.5773 - accuracy: 0.9469 - val_loss: 0.5477 - val_accuracy: 0.9541\n",
            "Epoch 14/30\n",
            "391/391 [==============================] - 6s 15ms/step - loss: 0.5660 - accuracy: 0.9482 - val_loss: 0.5703 - val_accuracy: 0.9461\n",
            "Epoch 15/30\n",
            "391/391 [==============================] - 6s 15ms/step - loss: 0.5598 - accuracy: 0.9496 - val_loss: 0.5320 - val_accuracy: 0.9585\n",
            "Epoch 16/30\n",
            "391/391 [==============================] - 6s 15ms/step - loss: 0.5507 - accuracy: 0.9508 - val_loss: 0.5692 - val_accuracy: 0.9494\n",
            "Epoch 17/30\n",
            "391/391 [==============================] - 6s 15ms/step - loss: 0.5443 - accuracy: 0.9524 - val_loss: 0.5516 - val_accuracy: 0.9468\n",
            "Epoch 18/30\n",
            "391/391 [==============================] - 6s 15ms/step - loss: 0.5409 - accuracy: 0.9515 - val_loss: 0.5144 - val_accuracy: 0.9603\n",
            "Epoch 19/30\n",
            "391/391 [==============================] - 6s 15ms/step - loss: 0.5361 - accuracy: 0.9531 - val_loss: 0.5312 - val_accuracy: 0.9588\n",
            "Epoch 20/30\n",
            "391/391 [==============================] - 6s 15ms/step - loss: 0.5321 - accuracy: 0.9541 - val_loss: 0.5097 - val_accuracy: 0.9607\n",
            "Epoch 21/30\n",
            "391/391 [==============================] - 6s 15ms/step - loss: 0.5281 - accuracy: 0.9534 - val_loss: 0.5432 - val_accuracy: 0.9508\n",
            "Epoch 22/30\n",
            "391/391 [==============================] - 6s 15ms/step - loss: 0.5228 - accuracy: 0.9553 - val_loss: 0.5459 - val_accuracy: 0.9470\n",
            "Epoch 23/30\n",
            "391/391 [==============================] - 6s 15ms/step - loss: 0.5190 - accuracy: 0.9560 - val_loss: 0.5061 - val_accuracy: 0.9618\n",
            "Epoch 24/30\n",
            "391/391 [==============================] - 6s 15ms/step - loss: 0.5153 - accuracy: 0.9563 - val_loss: 0.5094 - val_accuracy: 0.9582\n",
            "Epoch 25/30\n",
            "391/391 [==============================] - 6s 15ms/step - loss: 0.5150 - accuracy: 0.9554 - val_loss: 0.4939 - val_accuracy: 0.9638\n",
            "Epoch 26/30\n",
            "391/391 [==============================] - 6s 15ms/step - loss: 0.5102 - accuracy: 0.9572 - val_loss: 0.4975 - val_accuracy: 0.9622\n",
            "Epoch 27/30\n",
            "391/391 [==============================] - 6s 15ms/step - loss: 0.5087 - accuracy: 0.9569 - val_loss: 0.4889 - val_accuracy: 0.9645\n",
            "Epoch 28/30\n",
            "391/391 [==============================] - 6s 15ms/step - loss: 0.5050 - accuracy: 0.9575 - val_loss: 0.5177 - val_accuracy: 0.9530\n",
            "Epoch 29/30\n",
            "391/391 [==============================] - 6s 14ms/step - loss: 0.5012 - accuracy: 0.9582 - val_loss: 0.5624 - val_accuracy: 0.9383\n",
            "Epoch 30/30\n",
            "391/391 [==============================] - 6s 15ms/step - loss: 0.4995 - accuracy: 0.9592 - val_loss: 0.5070 - val_accuracy: 0.9560\n"
          ]
        }
      ]
    },
    {
      "cell_type": "code",
      "source": [
        "pinta_perdida_entrenamiento_validacion(historia3)"
      ],
      "metadata": {
        "id": "I8XzPVtyze8y",
        "colab": {
          "base_uri": "https://localhost:8080/",
          "height": 295
        },
        "outputId": "30b3a024-f880-4299-e432-708ed80b8a15"
      },
      "execution_count": 162,
      "outputs": [
        {
          "output_type": "display_data",
          "data": {
            "text/plain": [
              "<Figure size 432x288 with 1 Axes>"
            ],
            "image/png": "[encoded data removed]"
          },
          "metadata": {
            "needs_background": "light"
          }
        }
      ]
    },
    {
      "cell_type": "code",
      "source": [
        "pinta_precision_entrenamiento_validacion(historia3)"
      ],
      "metadata": {
        "id": "nKk7AmM8zi3A",
        "colab": {
          "base_uri": "https://localhost:8080/",
          "height": 295
        },
        "outputId": "63312e63-dbb2-420c-fb2b-fbfff005ef44"
      },
      "execution_count": 163,
      "outputs": [
        {
          "output_type": "display_data",
          "data": {
            "text/plain": [
              "<Figure size 432x288 with 1 Axes>"
            ],
            "image/png": "[encoded data removed]"
          },
          "metadata": {
            "needs_background": "light"
          }
        }
      ]
    },
    {
      "cell_type": "markdown",
      "source": [
        "### Caso 4: Con Droput"
      ],
      "metadata": {
        "id": "OPVcbgcXCFRL"
      }
    },
    {
      "cell_type": "code",
      "source": [
        "network4 = crea_modelo(4)"
      ],
      "metadata": {
        "id": "5MVbUNX11Pgr",
        "colab": {
          "base_uri": "https://localhost:8080/"
        },
        "outputId": "a119867f-a8cc-4713-a248-1d74f22d5dfe"
      },
      "execution_count": 164,
      "outputs": [
        {
          "output_type": "stream",
          "name": "stdout",
          "text": [
            "Model: \"sequential_15\"\n",
            "_________________________________________________________________\n",
            " Layer (type)                Output Shape              Param #   \n",
            "=================================================================\n",
            " dense_27 (Dense)            (None, 512)               401920    \n",
            "                                                                 \n",
            " dropout (Dropout)           (None, 512)               0         \n",
            "                                                                 \n",
            " dense_28 (Dense)            (None, 10)                5130      \n",
            "                                                                 \n",
            "=================================================================\n",
            "Total params: 407,050\n",
            "Trainable params: 407,050\n",
            "Non-trainable params: 0\n",
            "_________________________________________________________________\n"
          ]
        }
      ]
    },
    {
      "cell_type": "code",
      "source": [
        "network4 = compila_modelo(network4)"
      ],
      "metadata": {
        "id": "pT-13IKI1UpW"
      },
      "execution_count": 165,
      "outputs": []
    },
    {
      "cell_type": "code",
      "source": [
        "historia4 = entrena_modelo(network4)"
      ],
      "metadata": {
        "id": "kNWidx1S1aCH",
        "colab": {
          "base_uri": "https://localhost:8080/"
        },
        "outputId": "2673bbe0-b653-47fb-b7c6-d183df40f28a"
      },
      "execution_count": 166,
      "outputs": [
        {
          "output_type": "stream",
          "name": "stdout",
          "text": [
            "Epoch 1/30\n",
            "391/391 [==============================] - 5s 13ms/step - loss: 0.3494 - accuracy: 0.8968 - val_loss: 0.1546 - val_accuracy: 0.9576\n",
            "Epoch 2/30\n",
            "391/391 [==============================] - 5s 12ms/step - loss: 0.1715 - accuracy: 0.9497 - val_loss: 0.1124 - val_accuracy: 0.9664\n",
            "Epoch 3/30\n",
            "391/391 [==============================] - 5s 13ms/step - loss: 0.1299 - accuracy: 0.9607 - val_loss: 0.1068 - val_accuracy: 0.9695\n",
            "Epoch 4/30\n",
            "391/391 [==============================] - 5s 13ms/step - loss: 0.1098 - accuracy: 0.9672 - val_loss: 0.0912 - val_accuracy: 0.9741\n",
            "Epoch 5/30\n",
            "391/391 [==============================] - 5s 13ms/step - loss: 0.0954 - accuracy: 0.9711 - val_loss: 0.0842 - val_accuracy: 0.9755\n",
            "Epoch 6/30\n",
            "391/391 [==============================] - 5s 13ms/step - loss: 0.0830 - accuracy: 0.9756 - val_loss: 0.0826 - val_accuracy: 0.9772\n",
            "Epoch 7/30\n",
            "391/391 [==============================] - 5s 13ms/step - loss: 0.0746 - accuracy: 0.9771 - val_loss: 0.0799 - val_accuracy: 0.9778\n",
            "Epoch 8/30\n",
            "391/391 [==============================] - 5s 13ms/step - loss: 0.0695 - accuracy: 0.9791 - val_loss: 0.0764 - val_accuracy: 0.9793\n",
            "Epoch 9/30\n",
            "391/391 [==============================] - 5s 13ms/step - loss: 0.0626 - accuracy: 0.9809 - val_loss: 0.0789 - val_accuracy: 0.9798\n",
            "Epoch 10/30\n",
            "391/391 [==============================] - 5s 13ms/step - loss: 0.0584 - accuracy: 0.9821 - val_loss: 0.0816 - val_accuracy: 0.9795\n",
            "Epoch 11/30\n",
            "391/391 [==============================] - 5s 12ms/step - loss: 0.0553 - accuracy: 0.9832 - val_loss: 0.0782 - val_accuracy: 0.9795\n",
            "Epoch 12/30\n",
            "391/391 [==============================] - 5s 13ms/step - loss: 0.0515 - accuracy: 0.9848 - val_loss: 0.0815 - val_accuracy: 0.9799\n",
            "Epoch 13/30\n",
            "391/391 [==============================] - 5s 13ms/step - loss: 0.0494 - accuracy: 0.9850 - val_loss: 0.0782 - val_accuracy: 0.9796\n",
            "Epoch 14/30\n",
            "391/391 [==============================] - 5s 13ms/step - loss: 0.0457 - accuracy: 0.9859 - val_loss: 0.0825 - val_accuracy: 0.9805\n",
            "Epoch 15/30\n",
            "391/391 [==============================] - 5s 13ms/step - loss: 0.0455 - accuracy: 0.9870 - val_loss: 0.0801 - val_accuracy: 0.9815\n",
            "Epoch 16/30\n",
            "391/391 [==============================] - 5s 13ms/step - loss: 0.0425 - accuracy: 0.9871 - val_loss: 0.0828 - val_accuracy: 0.9816\n",
            "Epoch 17/30\n",
            "391/391 [==============================] - 5s 13ms/step - loss: 0.0413 - accuracy: 0.9879 - val_loss: 0.0832 - val_accuracy: 0.9810\n",
            "Epoch 18/30\n",
            "391/391 [==============================] - 5s 13ms/step - loss: 0.0375 - accuracy: 0.9884 - val_loss: 0.0829 - val_accuracy: 0.9823\n",
            "Epoch 19/30\n",
            "391/391 [==============================] - 5s 13ms/step - loss: 0.0371 - accuracy: 0.9884 - val_loss: 0.0841 - val_accuracy: 0.9824\n",
            "Epoch 20/30\n",
            "391/391 [==============================] - 5s 13ms/step - loss: 0.0358 - accuracy: 0.9892 - val_loss: 0.0837 - val_accuracy: 0.9826\n",
            "Epoch 21/30\n",
            "391/391 [==============================] - 5s 13ms/step - loss: 0.0349 - accuracy: 0.9889 - val_loss: 0.0880 - val_accuracy: 0.9816\n",
            "Epoch 22/30\n",
            "391/391 [==============================] - 5s 13ms/step - loss: 0.0330 - accuracy: 0.9900 - val_loss: 0.0882 - val_accuracy: 0.9826\n",
            "Epoch 23/30\n",
            "391/391 [==============================] - 5s 13ms/step - loss: 0.0341 - accuracy: 0.9896 - val_loss: 0.0871 - val_accuracy: 0.9830\n",
            "Epoch 24/30\n",
            "391/391 [==============================] - 5s 13ms/step - loss: 0.0314 - accuracy: 0.9907 - val_loss: 0.0872 - val_accuracy: 0.9827\n",
            "Epoch 25/30\n",
            "391/391 [==============================] - 5s 13ms/step - loss: 0.0282 - accuracy: 0.9913 - val_loss: 0.0884 - val_accuracy: 0.9823\n",
            "Epoch 26/30\n",
            "391/391 [==============================] - 5s 13ms/step - loss: 0.0299 - accuracy: 0.9909 - val_loss: 0.0946 - val_accuracy: 0.9808\n",
            "Epoch 27/30\n",
            "391/391 [==============================] - 5s 13ms/step - loss: 0.0277 - accuracy: 0.9916 - val_loss: 0.0921 - val_accuracy: 0.9825\n",
            "Epoch 28/30\n",
            "391/391 [==============================] - 5s 13ms/step - loss: 0.0282 - accuracy: 0.9918 - val_loss: 0.0951 - val_accuracy: 0.9842\n",
            "Epoch 29/30\n",
            "391/391 [==============================] - 5s 13ms/step - loss: 0.0257 - accuracy: 0.9921 - val_loss: 0.0941 - val_accuracy: 0.9828\n",
            "Epoch 30/30\n",
            "391/391 [==============================] - 5s 13ms/step - loss: 0.0264 - accuracy: 0.9918 - val_loss: 0.1039 - val_accuracy: 0.9823\n"
          ]
        }
      ]
    },
    {
      "cell_type": "code",
      "source": [
        "pinta_perdida_entrenamiento_validacion(historia4)"
      ],
      "metadata": {
        "id": "R9pI34Yr1gBO",
        "colab": {
          "base_uri": "https://localhost:8080/",
          "height": 295
        },
        "outputId": "35159dd3-2b27-4b94-8f5a-2bbe74b9a1ec"
      },
      "execution_count": 167,
      "outputs": [
        {
          "output_type": "display_data",
          "data": {
            "text/plain": [
              "<Figure size 432x288 with 1 Axes>"
            ],
            "image/png": "[encoded data removed]"
          },
          "metadata": {
            "needs_background": "light"
          }
        }
      ]
    },
    {
      "cell_type": "code",
      "source": [
        "pinta_precision_entrenamiento_validacion(historia4)"
      ],
      "metadata": {
        "id": "EwEIEOKx1lQr",
        "colab": {
          "base_uri": "https://localhost:8080/",
          "height": 295
        },
        "outputId": "53f88908-978c-4e47-e42f-80dc6921843d"
      },
      "execution_count": 168,
      "outputs": [
        {
          "output_type": "display_data",
          "data": {
            "text/plain": [
              "<Figure size 432x288 with 1 Axes>"
            ],
            "image/png": "[encoded data removed]"
          },
          "metadata": {
            "needs_background": "light"
          }
        }
      ]
    },
    {
      "cell_type": "markdown",
      "source": [
        "### Caso 5: Error de código de regularizador"
      ],
      "metadata": {
        "id": "e6rlKx2nCOgU"
      }
    },
    {
      "cell_type": "code",
      "source": [
        "network5 = crea_modelo(5)"
      ],
      "metadata": {
        "id": "SqGDm8VM1rwR",
        "colab": {
          "base_uri": "https://localhost:8080/",
          "height": 317
        },
        "outputId": "c51a7466-38d4-45a1-aabf-671619a18912"
      },
      "execution_count": 169,
      "outputs": [
        {
          "output_type": "error",
          "ename": "ValueError",
          "evalue": "ignored",
          "traceback": [
            "\u001b[0;31m---------------------------------------------------------------------------\u001b[0m",
            "\u001b[0;31mValueError\u001b[0m                                Traceback (most recent call last)",
            "\u001b[0;32m<ipython-input-169-23863d6b79b8>\u001b[0m in \u001b[0;36m<module>\u001b[0;34m\u001b[0m\n\u001b[0;32m----> 1\u001b[0;31m \u001b[0mnetwork5\u001b[0m \u001b[0;34m=\u001b[0m \u001b[0mcrea_modelo\u001b[0m\u001b[0;34m(\u001b[0m\u001b[0;36m5\u001b[0m\u001b[0;34m)\u001b[0m\u001b[0;34m\u001b[0m\u001b[0;34m\u001b[0m\u001b[0m\n\u001b[0m",
            "\u001b[0;32m<ipython-input-139-74e5daa65519>\u001b[0m in \u001b[0;36mcrea_modelo\u001b[0;34m(regularizador)\u001b[0m\n\u001b[1;32m     24\u001b[0m     \u001b[0mmodel\u001b[0m\u001b[0;34m.\u001b[0m\u001b[0madd\u001b[0m\u001b[0;34m(\u001b[0m\u001b[0mlayers\u001b[0m\u001b[0;34m.\u001b[0m\u001b[0mDropout\u001b[0m\u001b[0;34m(\u001b[0m\u001b[0;36m0.5\u001b[0m\u001b[0;34m)\u001b[0m\u001b[0;34m)\u001b[0m\u001b[0;34m\u001b[0m\u001b[0;34m\u001b[0m\u001b[0m\n\u001b[1;32m     25\u001b[0m   \u001b[0mmodel\u001b[0m\u001b[0;34m.\u001b[0m\u001b[0madd\u001b[0m\u001b[0;34m(\u001b[0m\u001b[0mlayers\u001b[0m\u001b[0;34m.\u001b[0m\u001b[0mDense\u001b[0m\u001b[0;34m(\u001b[0m\u001b[0;36m10\u001b[0m\u001b[0;34m,\u001b[0m\u001b[0mactivation\u001b[0m\u001b[0;34m=\u001b[0m\u001b[0;34m'softmax'\u001b[0m\u001b[0;34m)\u001b[0m\u001b[0;34m)\u001b[0m\u001b[0;34m\u001b[0m\u001b[0;34m\u001b[0m\u001b[0m\n\u001b[0;32m---> 26\u001b[0;31m   \u001b[0mmodel\u001b[0m\u001b[0;34m.\u001b[0m\u001b[0msummary\u001b[0m\u001b[0;34m(\u001b[0m\u001b[0;34m)\u001b[0m\u001b[0;34m\u001b[0m\u001b[0;34m\u001b[0m\u001b[0m\n\u001b[0m\u001b[1;32m     27\u001b[0m   \u001b[0;32mreturn\u001b[0m \u001b[0mmodel\u001b[0m\u001b[0;34m\u001b[0m\u001b[0;34m\u001b[0m\u001b[0m\n",
            "\u001b[0;32m/usr/local/lib/python3.7/dist-packages/keras/engine/training.py\u001b[0m in \u001b[0;36msummary\u001b[0;34m(self, line_length, positions, print_fn, expand_nested, show_trainable)\u001b[0m\n\u001b[1;32m   2868\u001b[0m     \u001b[0;32mif\u001b[0m \u001b[0;32mnot\u001b[0m \u001b[0mself\u001b[0m\u001b[0;34m.\u001b[0m\u001b[0mbuilt\u001b[0m\u001b[0;34m:\u001b[0m\u001b[0;34m\u001b[0m\u001b[0;34m\u001b[0m\u001b[0m\n\u001b[1;32m   2869\u001b[0m       raise ValueError(\n\u001b[0;32m-> 2870\u001b[0;31m           \u001b[0;34m'This model has not yet been built. '\u001b[0m\u001b[0;34m\u001b[0m\u001b[0;34m\u001b[0m\u001b[0m\n\u001b[0m\u001b[1;32m   2871\u001b[0m           \u001b[0;34m'Build the model first by calling `build()` or by calling '\u001b[0m\u001b[0;34m\u001b[0m\u001b[0;34m\u001b[0m\u001b[0m\n\u001b[1;32m   2872\u001b[0m           'the model on a batch of data.')\n",
            "\u001b[0;31mValueError\u001b[0m: This model has not yet been built. Build the model first by calling `build()` or by calling the model on a batch of data."
          ]
        }
      ]
    },
    {
      "cell_type": "markdown",
      "source": [
        "### CONCLUSIONES"
      ],
      "metadata": {
        "id": "IklUu29cCcVe"
      }
    },
    {
      "cell_type": "markdown",
      "source": [
        "Tras observar los casos: regularizador_l1, regularizador l2 y regularizador l1_l2. Llegamos a la conclusión que el mejor regularizador es el l1_l2, ya que como podemos observar en la gráfica de pérdida de entrenamiento y precisión, nuestros datos coinciden mejor que en ningún otra gráfica. \n",
        "Aún así, comentamos cada uno de los casos. Empezamos por regularización l1:\n",
        "\n",
        "\n",
        "Tras observar los datos y posteriormente la gráfica, llegamos a la conclusión que el caso 1 comienza con un sobreentrenamiento inmediato, por lo que queda totalmente descartado. \n",
        "\n",
        "\n",
        "Siguiendo con el regulatizador l2:\n",
        "\n",
        "El comienzo de este caso no es como el anterior por lo que nos puede llevar a pensar que es el idóneo. Sin embargo, si observamos con detenimiento la gráfica vemos que a partir de la época 5 experimenta un sobreentrenamiento elevado. \n",
        "\n",
        "\n",
        "Sin embargo, el regularizador l1_l2 es el que menor sobreentrenamiento tiene y mantiene los datos de pérdida de entrenamiento.\n",
        "\n",
        "\n",
        "Por último, el dropout es el peor de todos si nos fijamos en la gráfica ya que es notable el sobreentrenamiento que experimenta. \n"
      ],
      "metadata": {
        "id": "cB_OYjjaChzN"
      }
    }
  ]
}